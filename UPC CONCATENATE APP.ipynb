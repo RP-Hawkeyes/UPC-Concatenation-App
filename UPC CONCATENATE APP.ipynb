{
 "cells": [
  {
   "cell_type": "code",
   "execution_count": 2,
   "id": "3f435a74",
   "metadata": {},
   "outputs": [],
   "source": [
    "import pandas as pd\n",
    "import streamlit as st\n",
    "import os\n",
    "import io\n",
    "\n",
    "# Function to clean and preprocess the data\n",
    "def preprocess_data(df):\n",
    "    df['offer_id2'] = df['offer_id2'].str.strip()\n",
    "    df['_14_char_barcode'] = df['_14_char_barcode'].apply(lambda x: '{:.0f}'.format(x).zfill(14))\n",
    "    df_unique = df.drop_duplicates(subset=['offer_id2', '_14_char_barcode'])\n",
    "    new_df = df_unique.groupby('offer_id2')['_14_char_barcode'].apply(lambda x: ','.join(x)).reset_index()\n",
    "    return new_df\n",
    "\n",
    "# Streamlit app\n",
    "st.title('UPC Concatenation App')\n",
    "\n",
    "# File upload section\n",
    "uploaded_file = st.file_uploader(\"Upload Excel File\", type=[\"xlsx\", \"xls\"])\n",
    "\n",
    "# Placeholder for user-specified file name\n",
    "file_name_placeholder = st.empty()\n",
    "file_name = file_name_placeholder.text_input(\"Enter the desired file name (without extension):\", \"processed_data\")\n",
    "\n",
    "# Button to start processing\n",
    "if st.button(\"Process Data\"):\n",
    "    if uploaded_file is not None:\n",
    "        # Load data from Excel\n",
    "        df = pd.read_excel(uploaded_file)\n",
    "\n",
    "        # Preprocess the data\n",
    "        new_df = preprocess_data(df)\n",
    "\n",
    "        # Display processed data\n",
    "        st.dataframe(new_df)\n",
    "\n",
    "        # Create an in-memory Excel file\n",
    "        excel_data = io.BytesIO()\n",
    "        new_df.to_excel(excel_data, index=False, engine='openpyxl')\n",
    "\n",
    "        # Save the Excel file to the user's local \"Downloads\" folder with user-specified or auto-generated file name\n",
    "        final_file_name = f\"{file_name}.xlsx\"\n",
    "        user_downloads_path = os.path.expanduser(\"~\\Downloads\")\n",
    "        file_path = os.path.join(user_downloads_path, final_file_name)\n",
    "        with open(file_path, \"wb\") as f:\n",
    "            f.write(excel_data.getvalue())\n",
    "\n",
    "        # Update the placeholder with the final file name\n",
    "        file_name_placeholder.text(final_file_name)\n",
    "\n",
    "        # Provide a message to the user\n",
    "        st.markdown(f\"File '{final_file_name}' has been downloaded to your local 'Downloads' folder.\")"
   ]
  },
  {
   "cell_type": "code",
   "execution_count": null,
   "id": "25c3f64a",
   "metadata": {},
   "outputs": [],
   "source": []
  }
 ],
 "metadata": {
  "kernelspec": {
   "display_name": "Python 3 (ipykernel)",
   "language": "python",
   "name": "python3"
  },
  "language_info": {
   "codemirror_mode": {
    "name": "ipython",
    "version": 3
   },
   "file_extension": ".py",
   "mimetype": "text/x-python",
   "name": "python",
   "nbconvert_exporter": "python",
   "pygments_lexer": "ipython3",
   "version": "3.11.5"
  }
 },
 "nbformat": 4,
 "nbformat_minor": 5
}
